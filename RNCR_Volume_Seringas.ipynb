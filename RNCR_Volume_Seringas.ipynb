{
  "nbformat": 4,
  "nbformat_minor": 0,
  "metadata": {
    "colab": {
      "name": "RNCR Volume Seringas.ipynb",
      "provenance": [],
      "collapsed_sections": [],
      "include_colab_link": true
    },
    "kernelspec": {
      "name": "python3",
      "display_name": "Python 3"
    },
    "language_info": {
      "name": "python"
    },
    "accelerator": "GPU"
  },
  "cells": [
    {
      "cell_type": "markdown",
      "metadata": {
        "id": "view-in-github",
        "colab_type": "text"
      },
      "source": [
        "<a href=\"https://colab.research.google.com/github/valerio-unifei/chemotherapy-safety/blob/main/RNCR_Volume_Seringas.ipynb\" target=\"_parent\"><img src=\"https://colab.research.google.com/assets/colab-badge.svg\" alt=\"Open In Colab\"/></a>"
      ]
    },
    {
      "cell_type": "markdown",
      "metadata": {
        "id": "SodilaOLYvJZ"
      },
      "source": [
        "# Dataset"
      ]
    },
    {
      "cell_type": "markdown",
      "metadata": {
        "id": "j4Ax5IiAYx5Z"
      },
      "source": [
        "## Baixando imagens do Google Drive"
      ]
    },
    {
      "cell_type": "code",
      "metadata": {
        "colab": {
          "base_uri": "https://localhost:8080/"
        },
        "id": "7EXkxHNBo1CE",
        "outputId": "2deb7768-f664-4add-cc98-be4cd04bda33"
      },
      "source": [
        "import gdown\n",
        "\n",
        "# https://drive.google.com/file/d/1qWtEN-w19UUtfWChQkxzHSOyBLENXIQa/\n",
        "syrDS = 'https://drive.google.com/uc?id=1qWtEN-w19UUtfWChQkxzHSOyBLENXIQa'\n",
        "gdown.download(syrDS, 'SyringeDataset.zip', quiet=False)\n",
        "\n",
        "!unzip -qq SyringeDataset.zip -d fullds\n",
        "!rm SyringeDataset.zip\n",
        "\n"
      ],
      "execution_count": null,
      "outputs": [
        {
          "output_type": "stream",
          "name": "stderr",
          "text": [
            "Downloading...\n",
            "From: https://drive.google.com/uc?id=1qWtEN-w19UUtfWChQkxzHSOyBLENXIQa\n",
            "To: /content/SyringeDataset.zip\n",
            "100%|██████████| 269M/269M [00:02<00:00, 93.3MB/s]\n"
          ]
        }
      ]
    },
    {
      "cell_type": "markdown",
      "metadata": {
        "id": "9KHjz_9DY4bx"
      },
      "source": [
        "Convertendo pastas com \"ml\" para apenas números (apenas para assegurar ordem das pastas)"
      ]
    },
    {
      "cell_type": "code",
      "metadata": {
        "id": "kLxjOP_tA7ao"
      },
      "source": [
        "# para permitir de transforma classes em valores\n",
        "import os\n",
        "for i in range(21):\n",
        "  os.rename(f'fullds/{i:02}ml', f'fullds/{i:02}')"
      ],
      "execution_count": null,
      "outputs": []
    },
    {
      "cell_type": "markdown",
      "metadata": {
        "id": "XFNNc3_EZCow"
      },
      "source": [
        "## Importando Imagens das Pastas para o TensorFlow"
      ]
    },
    {
      "cell_type": "markdown",
      "metadata": {
        "id": "CDkdLJ0aZII4"
      },
      "source": [
        "É usando apenas 1 dataset aqui, onde as classes são inteiras (0 a 20) conforme nome das pastas"
      ]
    },
    {
      "cell_type": "code",
      "metadata": {
        "colab": {
          "base_uri": "https://localhost:8080/"
        },
        "id": "SYzLLWF8n5h-",
        "outputId": "de92fe33-e144-4bb6-ae2f-f111ce803aa9"
      },
      "source": [
        "import tensorflow as tf\n",
        "import numpy as np\n",
        "from tensorflow.keras import datasets, layers, models\n",
        "import matplotlib.pyplot as plt\n",
        "\n",
        "directory = '/content/fullds'\n",
        "\n",
        "# https://www.tensorflow.org/api_docs/python/tf/keras/preprocessing/image_dataset_from_directory\n",
        "image_size = (128, 128)\n",
        "batch_size = 32\n",
        "cores = ['rgb', 'grayscale'][1]\n",
        "\n",
        "train_ds = tf.keras.preprocessing.image_dataset_from_directory(\n",
        "    directory=directory, \n",
        "    labels='inferred', \n",
        "    label_mode='int',\n",
        "    class_names=None, \n",
        "    color_mode=cores, \n",
        "    batch_size=batch_size, \n",
        "    image_size=image_size, \n",
        "    shuffle=True, \n",
        "    seed=42, \n",
        "    validation_split=None, \n",
        "    subset=None,\n",
        "    interpolation='bilinear', \n",
        "    follow_links=False,\n",
        "    crop_to_aspect_ratio=False,\n",
        ")"
      ],
      "execution_count": null,
      "outputs": [
        {
          "output_type": "stream",
          "name": "stdout",
          "text": [
            "Found 1233 files belonging to 21 classes.\n"
          ]
        }
      ]
    },
    {
      "cell_type": "markdown",
      "metadata": {
        "id": "JA614tX9Yt2F"
      },
      "source": [
        "Extraindo imagens para X e tutores (targets) para y\n",
        "\n",
        "Os tutores são convertidos de inteiros (0 a 20) para reais (float) (0.0 a 20.0)\n",
        "\n",
        "O batch é removido, os conjunto X e y são completos sem blocos."
      ]
    },
    {
      "cell_type": "code",
      "metadata": {
        "colab": {
          "base_uri": "https://localhost:8080/"
        },
        "id": "YI7LJKYTRL6s",
        "outputId": "e4b535d5-69b1-449c-c421-3109511eb85c"
      },
      "source": [
        "X = np.concatenate([x for x,y in train_ds],axis=0)\n",
        "y = np.concatenate([y for x,y in train_ds],axis=0)\n",
        "y = y.astype(float)\n",
        "X.shape, y.shape"
      ],
      "execution_count": null,
      "outputs": [
        {
          "output_type": "execute_result",
          "data": {
            "text/plain": [
              "((1233, 128, 128, 1), (1233,))"
            ]
          },
          "metadata": {},
          "execution_count": 4
        }
      ]
    },
    {
      "cell_type": "markdown",
      "metadata": {
        "id": "iZV01rOWZrvr"
      },
      "source": [
        "# Rede Neural Convolucional Regressiva"
      ]
    },
    {
      "cell_type": "markdown",
      "metadata": {
        "id": "Mc8HDdzzZwdE"
      },
      "source": [
        "A CNN regressiva apresenta apenas 1 saída do tipo float (real)"
      ]
    },
    {
      "cell_type": "code",
      "metadata": {
        "colab": {
          "base_uri": "https://localhost:8080/"
        },
        "id": "1rnWCxZwpSpZ",
        "outputId": "e4a8a6c1-5152-4c45-98a3-07eac8e9026b"
      },
      "source": [
        "channels = 3 if cores == 'rgb' else 1\n",
        "\n",
        "model = models.Sequential()\n",
        "model.add(layers.Conv2D(32, (3, 3), activation='relu', input_shape=(image_size[0], image_size[1], channels)))\n",
        "model.add(layers.MaxPooling2D((2, 2)))\n",
        "model.add(layers.Conv2D(64, (3, 3), activation='relu'))\n",
        "model.add(layers.MaxPooling2D((2, 2)))\n",
        "model.add(layers.Conv2D(64, (3, 3), activation='relu'))\n",
        "model.add(layers.Flatten())\n",
        "model.add(layers.Dense(64, activation='relu'))\n",
        "model.add(layers.Dense(1)) #regressao\n",
        "\n",
        "model.summary()"
      ],
      "execution_count": null,
      "outputs": [
        {
          "output_type": "stream",
          "name": "stdout",
          "text": [
            "Model: \"sequential\"\n",
            "_________________________________________________________________\n",
            " Layer (type)                Output Shape              Param #   \n",
            "=================================================================\n",
            " conv2d (Conv2D)             (None, 126, 126, 32)      320       \n",
            "                                                                 \n",
            " max_pooling2d (MaxPooling2D  (None, 63, 63, 32)       0         \n",
            " )                                                               \n",
            "                                                                 \n",
            " conv2d_1 (Conv2D)           (None, 61, 61, 64)        18496     \n",
            "                                                                 \n",
            " max_pooling2d_1 (MaxPooling  (None, 30, 30, 64)       0         \n",
            " 2D)                                                             \n",
            "                                                                 \n",
            " conv2d_2 (Conv2D)           (None, 28, 28, 64)        36928     \n",
            "                                                                 \n",
            " flatten (Flatten)           (None, 50176)             0         \n",
            "                                                                 \n",
            " dense (Dense)               (None, 64)                3211328   \n",
            "                                                                 \n",
            " dense_1 (Dense)             (None, 1)                 65        \n",
            "                                                                 \n",
            "=================================================================\n",
            "Total params: 3,267,137\n",
            "Trainable params: 3,267,137\n",
            "Non-trainable params: 0\n",
            "_________________________________________________________________\n"
          ]
        }
      ]
    },
    {
      "cell_type": "code",
      "metadata": {
        "colab": {
          "base_uri": "https://localhost:8080/",
          "height": 976
        },
        "id": "GsXvMHClJMPO",
        "outputId": "16b8ae3d-f9b3-4274-96a4-e046404f1484"
      },
      "source": [
        "tf.keras.utils.plot_model(\n",
        "    model,\n",
        "    to_file=\"model.png\",\n",
        "    show_shapes=True,\n",
        "    show_dtype=False,\n",
        "    show_layer_names=True,\n",
        "    rankdir=\"TB\",\n",
        "    expand_nested=False,\n",
        "    dpi=96,\n",
        "    layer_range=None,\n",
        ")"
      ],
      "execution_count": null,
      "outputs": [
        {
          "output_type": "execute_result",
          "data": {
            "image/png": "[encoded data removed]",
            "text/plain": [
              "<IPython.core.display.Image object>"
            ]
          },
          "metadata": {},
          "execution_count": 6
        }
      ]
    },
    {
      "cell_type": "code",
      "metadata": {
        "id": "iUpYP0fSFbQD"
      },
      "source": [
        "model.compile(\n",
        "    optimizer=tf.keras.optimizers.RMSprop(0.001),\n",
        "    #optimizer = 'Adam',\n",
        "    loss='mse',\n",
        "    metrics=['mae', 'mse'],\n",
        "    )"
      ],
      "execution_count": null,
      "outputs": []
    },
    {
      "cell_type": "code",
      "metadata": {
        "colab": {
          "base_uri": "https://localhost:8080/"
        },
        "id": "uz-_LqexFdAC",
        "outputId": "ec89fce8-fa1c-44c6-9c17-83359fdbcfae"
      },
      "source": [
        "model.predict(X)"
      ],
      "execution_count": null,
      "outputs": [
        {
          "output_type": "execute_result",
          "data": {
            "text/plain": [
              "array([[ 1.8343112],\n",
              "       [19.80405  ],\n",
              "       [11.800161 ],\n",
              "       ...,\n",
              "       [ 8.60848  ],\n",
              "       [ 4.2254257],\n",
              "       [ 6.5143948]], dtype=float32)"
            ]
          },
          "metadata": {},
          "execution_count": 17
        }
      ]
    },
    {
      "cell_type": "markdown",
      "metadata": {
        "id": "Qo5WpRzJZ6oc"
      },
      "source": [
        "## Treinamento"
      ]
    },
    {
      "cell_type": "markdown",
      "metadata": {
        "id": "-oHPRR1iZ9uP"
      },
      "source": [
        "Treinamento regressivo são utilizados MSE e MAE como critérios de avaliação.\n",
        "\n",
        "RMSprop faz a otimização da rede regressiva"
      ]
    },
    {
      "cell_type": "code",
      "metadata": {
        "id": "7P97tmNHyf2Q"
      },
      "source": [
        "tf.random.set_seed(42)"
      ],
      "execution_count": null,
      "outputs": []
    },
    {
      "cell_type": "code",
      "metadata": {
        "id": "d4K9LHO7phho",
        "colab": {
          "base_uri": "https://localhost:8080/"
        },
        "outputId": "bbb8d201-4645-4e57-81f9-136aa982063b"
      },
      "source": [
        "history = model.fit(X, y, \n",
        "                    epochs=200, \n",
        "                    validation_split=0.2,\n",
        "                    verbose=2)"
      ],
      "execution_count": null,
      "outputs": [
        {
          "output_type": "stream",
          "name": "stdout",
          "text": [
            "Epoch 1/200\n",
            "31/31 - 1s - loss: 0.8080 - mae: 0.6740 - mse: 0.8080 - val_loss: 46.5909 - val_mae: 5.7306 - val_mse: 46.5909 - 1s/epoch - 38ms/step\n",
            "Epoch 2/200\n",
            "31/31 - 1s - loss: 0.9644 - mae: 0.7197 - mse: 0.9644 - val_loss: 48.6637 - val_mae: 5.9784 - val_mse: 48.6637 - 1s/epoch - 34ms/step\n",
            "Epoch 3/200\n",
            "31/31 - 1s - loss: 0.8886 - mae: 0.7074 - mse: 0.8886 - val_loss: 46.9021 - val_mae: 5.8272 - val_mse: 46.9021 - 1s/epoch - 34ms/step\n",
            "Epoch 4/200\n",
            "31/31 - 1s - loss: 0.8566 - mae: 0.6735 - mse: 0.8566 - val_loss: 49.6168 - val_mae: 6.0356 - val_mse: 49.6168 - 1s/epoch - 36ms/step\n",
            "Epoch 5/200\n",
            "31/31 - 1s - loss: 2.1991 - mae: 0.9195 - mse: 2.1991 - val_loss: 47.3164 - val_mae: 5.8696 - val_mse: 47.3164 - 1s/epoch - 36ms/step\n",
            "Epoch 6/200\n",
            "31/31 - 1s - loss: 2.1498 - mae: 0.9138 - mse: 2.1498 - val_loss: 48.7844 - val_mae: 5.9809 - val_mse: 48.7844 - 1s/epoch - 34ms/step\n",
            "Epoch 7/200\n",
            "31/31 - 1s - loss: 0.8849 - mae: 0.6585 - mse: 0.8849 - val_loss: 47.4787 - val_mae: 5.8304 - val_mse: 47.4787 - 1s/epoch - 36ms/step\n",
            "Epoch 8/200\n",
            "31/31 - 1s - loss: 1.0777 - mae: 0.7505 - mse: 1.0777 - val_loss: 48.4027 - val_mae: 5.9672 - val_mse: 48.4027 - 1s/epoch - 34ms/step\n",
            "Epoch 9/200\n",
            "31/31 - 1s - loss: 1.4028 - mae: 0.8076 - mse: 1.4028 - val_loss: 46.3761 - val_mae: 5.8038 - val_mse: 46.3761 - 1s/epoch - 36ms/step\n",
            "Epoch 10/200\n",
            "31/31 - 1s - loss: 0.8725 - mae: 0.7027 - mse: 0.8725 - val_loss: 50.6201 - val_mae: 6.1425 - val_mse: 50.6201 - 1s/epoch - 35ms/step\n",
            "Epoch 11/200\n",
            "31/31 - 1s - loss: 1.0252 - mae: 0.7583 - mse: 1.0252 - val_loss: 47.1931 - val_mae: 5.8509 - val_mse: 47.1931 - 1s/epoch - 34ms/step\n",
            "Epoch 12/200\n",
            "31/31 - 1s - loss: 1.6994 - mae: 0.8329 - mse: 1.6994 - val_loss: 48.3495 - val_mae: 5.9377 - val_mse: 48.3495 - 1s/epoch - 36ms/step\n",
            "Epoch 13/200\n",
            "31/31 - 1s - loss: 0.6775 - mae: 0.6076 - mse: 0.6775 - val_loss: 46.7787 - val_mae: 5.8497 - val_mse: 46.7787 - 1s/epoch - 36ms/step\n",
            "Epoch 14/200\n",
            "31/31 - 1s - loss: 10.0819 - mae: 1.9037 - mse: 10.0819 - val_loss: 48.6546 - val_mae: 5.9398 - val_mse: 48.6546 - 1s/epoch - 34ms/step\n",
            "Epoch 15/200\n",
            "31/31 - 1s - loss: 1.2244 - mae: 0.8296 - mse: 1.2244 - val_loss: 47.6121 - val_mae: 5.8795 - val_mse: 47.6121 - 1s/epoch - 34ms/step\n",
            "Epoch 16/200\n",
            "31/31 - 1s - loss: 1.5029 - mae: 0.9463 - mse: 1.5029 - val_loss: 50.1927 - val_mae: 6.1482 - val_mse: 50.1927 - 1s/epoch - 36ms/step\n",
            "Epoch 17/200\n",
            "31/31 - 1s - loss: 3.8358 - mae: 1.1749 - mse: 3.8358 - val_loss: 49.6676 - val_mae: 6.0432 - val_mse: 49.6676 - 1s/epoch - 34ms/step\n",
            "Epoch 18/200\n",
            "31/31 - 1s - loss: 0.7558 - mae: 0.6547 - mse: 0.7558 - val_loss: 46.9984 - val_mae: 5.9088 - val_mse: 46.9984 - 1s/epoch - 34ms/step\n",
            "Epoch 19/200\n",
            "31/31 - 1s - loss: 1.0250 - mae: 0.7508 - mse: 1.0250 - val_loss: 50.3508 - val_mae: 5.7539 - val_mse: 50.3508 - 1s/epoch - 36ms/step\n",
            "Epoch 20/200\n",
            "31/31 - 1s - loss: 3.7469 - mae: 1.0780 - mse: 3.7469 - val_loss: 48.0138 - val_mae: 5.9231 - val_mse: 48.0138 - 1s/epoch - 34ms/step\n",
            "Epoch 21/200\n",
            "31/31 - 1s - loss: 1.3922 - mae: 0.7698 - mse: 1.3922 - val_loss: 51.0427 - val_mae: 6.1481 - val_mse: 51.0427 - 1s/epoch - 35ms/step\n",
            "Epoch 22/200\n",
            "31/31 - 1s - loss: 12.7008 - mae: 1.5882 - mse: 12.7008 - val_loss: 49.4676 - val_mae: 6.0430 - val_mse: 49.4676 - 1s/epoch - 36ms/step\n",
            "Epoch 23/200\n",
            "31/31 - 1s - loss: 1.1391 - mae: 0.8145 - mse: 1.1391 - val_loss: 47.9023 - val_mae: 5.9342 - val_mse: 47.9023 - 1s/epoch - 34ms/step\n",
            "Epoch 24/200\n",
            "31/31 - 1s - loss: 0.8135 - mae: 0.6522 - mse: 0.8135 - val_loss: 47.8240 - val_mae: 5.8962 - val_mse: 47.8240 - 1s/epoch - 34ms/step\n",
            "Epoch 25/200\n",
            "31/31 - 1s - loss: 1.6615 - mae: 0.7720 - mse: 1.6615 - val_loss: 50.8366 - val_mae: 6.1252 - val_mse: 50.8366 - 1s/epoch - 34ms/step\n",
            "Epoch 26/200\n",
            "31/31 - 1s - loss: 5.1463 - mae: 1.3666 - mse: 5.1463 - val_loss: 49.5924 - val_mae: 5.9970 - val_mse: 49.5924 - 1s/epoch - 36ms/step\n",
            "Epoch 27/200\n",
            "31/31 - 1s - loss: 1.2339 - mae: 0.8056 - mse: 1.2339 - val_loss: 50.9618 - val_mae: 6.1679 - val_mse: 50.9618 - 1s/epoch - 34ms/step\n",
            "Epoch 28/200\n",
            "31/31 - 1s - loss: 0.9479 - mae: 0.6794 - mse: 0.9479 - val_loss: 49.3929 - val_mae: 6.0305 - val_mse: 49.3929 - 1s/epoch - 34ms/step\n",
            "Epoch 29/200\n",
            "31/31 - 1s - loss: 2.6034 - mae: 1.0763 - mse: 2.6034 - val_loss: 49.3010 - val_mae: 5.9791 - val_mse: 49.3010 - 1s/epoch - 34ms/step\n",
            "Epoch 30/200\n",
            "31/31 - 1s - loss: 1.2247 - mae: 0.8197 - mse: 1.2247 - val_loss: 47.8068 - val_mae: 5.8567 - val_mse: 47.8068 - 1s/epoch - 34ms/step\n",
            "Epoch 31/200\n",
            "31/31 - 1s - loss: 1.2449 - mae: 0.7394 - mse: 1.2449 - val_loss: 49.3302 - val_mae: 6.0423 - val_mse: 49.3302 - 1s/epoch - 34ms/step\n",
            "Epoch 32/200\n",
            "31/31 - 1s - loss: 1.2874 - mae: 0.7619 - mse: 1.2874 - val_loss: 50.3641 - val_mae: 6.0961 - val_mse: 50.3641 - 1s/epoch - 36ms/step\n",
            "Epoch 33/200\n",
            "31/31 - 1s - loss: 3.0629 - mae: 0.9557 - mse: 3.0629 - val_loss: 50.0222 - val_mae: 6.0690 - val_mse: 50.0222 - 1s/epoch - 34ms/step\n",
            "Epoch 34/200\n",
            "31/31 - 1s - loss: 2.2059 - mae: 0.9855 - mse: 2.2059 - val_loss: 48.9392 - val_mae: 5.9669 - val_mse: 48.9392 - 1s/epoch - 34ms/step\n",
            "Epoch 35/200\n",
            "31/31 - 1s - loss: 1.7660 - mae: 0.9590 - mse: 1.7660 - val_loss: 48.9789 - val_mae: 5.9730 - val_mse: 48.9789 - 1s/epoch - 34ms/step\n",
            "Epoch 36/200\n",
            "31/31 - 1s - loss: 0.8685 - mae: 0.6962 - mse: 0.8685 - val_loss: 48.8467 - val_mae: 5.9797 - val_mse: 48.8467 - 1s/epoch - 34ms/step\n",
            "Epoch 37/200\n",
            "31/31 - 1s - loss: 2.2743 - mae: 1.0083 - mse: 2.2743 - val_loss: 55.5725 - val_mae: 6.3988 - val_mse: 55.5725 - 1s/epoch - 36ms/step\n",
            "Epoch 38/200\n",
            "31/31 - 1s - loss: 0.9626 - mae: 0.7500 - mse: 0.9626 - val_loss: 50.0653 - val_mae: 6.0698 - val_mse: 50.0653 - 1s/epoch - 36ms/step\n",
            "Epoch 39/200\n",
            "31/31 - 1s - loss: 2.4550 - mae: 1.0099 - mse: 2.4550 - val_loss: 48.2765 - val_mae: 5.9400 - val_mse: 48.2765 - 1s/epoch - 36ms/step\n",
            "Epoch 40/200\n",
            "31/31 - 1s - loss: 1.3977 - mae: 0.9018 - mse: 1.3977 - val_loss: 48.6830 - val_mae: 5.9793 - val_mse: 48.6830 - 1s/epoch - 36ms/step\n",
            "Epoch 41/200\n",
            "31/31 - 1s - loss: 0.9983 - mae: 0.7653 - mse: 0.9983 - val_loss: 56.9530 - val_mae: 6.4741 - val_mse: 56.9530 - 1s/epoch - 36ms/step\n",
            "Epoch 42/200\n",
            "31/31 - 1s - loss: 1.5348 - mae: 0.8597 - mse: 1.5348 - val_loss: 47.2830 - val_mae: 5.8086 - val_mse: 47.2830 - 1s/epoch - 34ms/step\n",
            "Epoch 43/200\n",
            "31/31 - 1s - loss: 1.7475 - mae: 0.8821 - mse: 1.7475 - val_loss: 48.3512 - val_mae: 5.8273 - val_mse: 48.3512 - 1s/epoch - 34ms/step\n",
            "Epoch 44/200\n",
            "31/31 - 1s - loss: 1.2305 - mae: 0.8379 - mse: 1.2305 - val_loss: 47.3258 - val_mae: 5.7691 - val_mse: 47.3258 - 1s/epoch - 34ms/step\n",
            "Epoch 45/200\n",
            "31/31 - 1s - loss: 1.5970 - mae: 0.9196 - mse: 1.5970 - val_loss: 48.5672 - val_mae: 5.9952 - val_mse: 48.5672 - 1s/epoch - 34ms/step\n",
            "Epoch 46/200\n",
            "31/31 - 1s - loss: 0.9708 - mae: 0.7367 - mse: 0.9708 - val_loss: 48.5754 - val_mae: 5.9667 - val_mse: 48.5754 - 1s/epoch - 36ms/step\n",
            "Epoch 47/200\n",
            "31/31 - 1s - loss: 1.2844 - mae: 0.7608 - mse: 1.2844 - val_loss: 49.0973 - val_mae: 6.0653 - val_mse: 49.0973 - 1s/epoch - 34ms/step\n",
            "Epoch 48/200\n",
            "31/31 - 1s - loss: 1.0945 - mae: 0.7685 - mse: 1.0945 - val_loss: 49.1026 - val_mae: 6.0369 - val_mse: 49.1026 - 1s/epoch - 34ms/step\n",
            "Epoch 49/200\n",
            "31/31 - 1s - loss: 0.9637 - mae: 0.7058 - mse: 0.9637 - val_loss: 47.2554 - val_mae: 5.8560 - val_mse: 47.2554 - 1s/epoch - 34ms/step\n",
            "Epoch 50/200\n",
            "31/31 - 1s - loss: 0.9635 - mae: 0.7281 - mse: 0.9635 - val_loss: 46.3540 - val_mae: 5.7362 - val_mse: 46.3540 - 1s/epoch - 34ms/step\n",
            "Epoch 51/200\n",
            "31/31 - 1s - loss: 0.9265 - mae: 0.7104 - mse: 0.9265 - val_loss: 48.2356 - val_mae: 5.9409 - val_mse: 48.2356 - 1s/epoch - 34ms/step\n",
            "Epoch 52/200\n",
            "31/31 - 1s - loss: 0.8645 - mae: 0.6842 - mse: 0.8645 - val_loss: 48.8276 - val_mae: 6.0136 - val_mse: 48.8276 - 1s/epoch - 36ms/step\n",
            "Epoch 53/200\n",
            "31/31 - 1s - loss: 1.2147 - mae: 0.8038 - mse: 1.2147 - val_loss: 50.1835 - val_mae: 6.0852 - val_mse: 50.1835 - 1s/epoch - 36ms/step\n",
            "Epoch 54/200\n",
            "31/31 - 1s - loss: 0.9750 - mae: 0.7068 - mse: 0.9750 - val_loss: 47.1212 - val_mae: 5.8158 - val_mse: 47.1212 - 1s/epoch - 34ms/step\n",
            "Epoch 55/200\n",
            "31/31 - 1s - loss: 1.0216 - mae: 0.7235 - mse: 1.0216 - val_loss: 46.5765 - val_mae: 5.7768 - val_mse: 46.5765 - 1s/epoch - 34ms/step\n",
            "Epoch 56/200\n",
            "31/31 - 1s - loss: 0.9053 - mae: 0.6910 - mse: 0.9053 - val_loss: 47.2733 - val_mae: 5.7977 - val_mse: 47.2733 - 1s/epoch - 36ms/step\n",
            "Epoch 57/200\n",
            "31/31 - 1s - loss: 1.0329 - mae: 0.7161 - mse: 1.0329 - val_loss: 47.9741 - val_mae: 5.9388 - val_mse: 47.9741 - 1s/epoch - 34ms/step\n",
            "Epoch 58/200\n",
            "31/31 - 1s - loss: 0.6232 - mae: 0.5854 - mse: 0.6232 - val_loss: 47.9804 - val_mae: 5.9632 - val_mse: 47.9804 - 1s/epoch - 34ms/step\n",
            "Epoch 59/200\n",
            "31/31 - 1s - loss: 2.7743 - mae: 0.9851 - mse: 2.7743 - val_loss: 47.8705 - val_mae: 5.8104 - val_mse: 47.8705 - 1s/epoch - 36ms/step\n",
            "Epoch 60/200\n",
            "31/31 - 1s - loss: 0.8600 - mae: 0.6702 - mse: 0.8600 - val_loss: 47.9099 - val_mae: 5.9031 - val_mse: 47.9099 - 1s/epoch - 36ms/step\n",
            "Epoch 61/200\n",
            "31/31 - 1s - loss: 0.7621 - mae: 0.6791 - mse: 0.7621 - val_loss: 46.1734 - val_mae: 5.7989 - val_mse: 46.1734 - 1s/epoch - 34ms/step\n",
            "Epoch 62/200\n",
            "31/31 - 1s - loss: 1.1009 - mae: 0.7373 - mse: 1.1009 - val_loss: 48.1614 - val_mae: 5.9568 - val_mse: 48.1614 - 1s/epoch - 36ms/step\n",
            "Epoch 63/200\n",
            "31/31 - 1s - loss: 1.6431 - mae: 0.8087 - mse: 1.6431 - val_loss: 48.1211 - val_mae: 5.9347 - val_mse: 48.1211 - 1s/epoch - 34ms/step\n",
            "Epoch 64/200\n",
            "31/31 - 1s - loss: 0.7377 - mae: 0.6315 - mse: 0.7377 - val_loss: 48.9310 - val_mae: 6.0240 - val_mse: 48.9310 - 1s/epoch - 34ms/step\n",
            "Epoch 65/200\n",
            "31/31 - 1s - loss: 1.0341 - mae: 0.6718 - mse: 1.0341 - val_loss: 47.6928 - val_mae: 5.8728 - val_mse: 47.6928 - 1s/epoch - 34ms/step\n",
            "Epoch 66/200\n",
            "31/31 - 1s - loss: 0.8602 - mae: 0.7036 - mse: 0.8602 - val_loss: 48.5679 - val_mae: 5.9917 - val_mse: 48.5679 - 1s/epoch - 34ms/step\n",
            "Epoch 67/200\n",
            "31/31 - 1s - loss: 1.6801 - mae: 0.8886 - mse: 1.6801 - val_loss: 48.0130 - val_mae: 5.9324 - val_mse: 48.0130 - 1s/epoch - 34ms/step\n",
            "Epoch 68/200\n",
            "31/31 - 1s - loss: 0.7335 - mae: 0.6505 - mse: 0.7335 - val_loss: 47.5596 - val_mae: 5.9198 - val_mse: 47.5596 - 1s/epoch - 34ms/step\n",
            "Epoch 69/200\n",
            "31/31 - 1s - loss: 0.8629 - mae: 0.6742 - mse: 0.8629 - val_loss: 49.1944 - val_mae: 6.0318 - val_mse: 49.1944 - 1s/epoch - 34ms/step\n",
            "Epoch 70/200\n",
            "31/31 - 1s - loss: 0.7767 - mae: 0.6662 - mse: 0.7767 - val_loss: 48.5090 - val_mae: 5.9610 - val_mse: 48.5090 - 1s/epoch - 34ms/step\n",
            "Epoch 71/200\n",
            "31/31 - 1s - loss: 0.7838 - mae: 0.6706 - mse: 0.7838 - val_loss: 55.3787 - val_mae: 6.4151 - val_mse: 55.3787 - 1s/epoch - 36ms/step\n",
            "Epoch 72/200\n",
            "31/31 - 1s - loss: 1.4980 - mae: 0.8566 - mse: 1.4980 - val_loss: 48.7068 - val_mae: 5.9619 - val_mse: 48.7068 - 1s/epoch - 34ms/step\n",
            "Epoch 73/200\n",
            "31/31 - 1s - loss: 0.6786 - mae: 0.6028 - mse: 0.6786 - val_loss: 46.5881 - val_mae: 5.8306 - val_mse: 46.5881 - 1s/epoch - 36ms/step\n",
            "Epoch 74/200\n",
            "31/31 - 1s - loss: 1.0034 - mae: 0.7080 - mse: 1.0034 - val_loss: 46.0914 - val_mae: 5.7369 - val_mse: 46.0914 - 1s/epoch - 34ms/step\n",
            "Epoch 75/200\n",
            "31/31 - 1s - loss: 1.0757 - mae: 0.6834 - mse: 1.0757 - val_loss: 48.8244 - val_mae: 6.0127 - val_mse: 48.8244 - 1s/epoch - 36ms/step\n",
            "Epoch 76/200\n",
            "31/31 - 1s - loss: 0.6917 - mae: 0.6215 - mse: 0.6917 - val_loss: 51.3006 - val_mae: 6.1933 - val_mse: 51.3006 - 1s/epoch - 34ms/step\n",
            "Epoch 77/200\n",
            "31/31 - 1s - loss: 1.3299 - mae: 0.7870 - mse: 1.3299 - val_loss: 46.8816 - val_mae: 5.6585 - val_mse: 46.8816 - 1s/epoch - 34ms/step\n",
            "Epoch 78/200\n",
            "31/31 - 1s - loss: 0.7758 - mae: 0.6168 - mse: 0.7758 - val_loss: 46.5920 - val_mae: 5.8343 - val_mse: 46.5920 - 1s/epoch - 34ms/step\n",
            "Epoch 79/200\n",
            "31/31 - 1s - loss: 1.0231 - mae: 0.7600 - mse: 1.0231 - val_loss: 48.5883 - val_mae: 5.9650 - val_mse: 48.5883 - 1s/epoch - 34ms/step\n",
            "Epoch 80/200\n",
            "31/31 - 1s - loss: 1.3039 - mae: 0.7623 - mse: 1.3039 - val_loss: 48.6823 - val_mae: 5.9647 - val_mse: 48.6823 - 1s/epoch - 36ms/step\n",
            "Epoch 81/200\n",
            "31/31 - 1s - loss: 0.7694 - mae: 0.6373 - mse: 0.7694 - val_loss: 46.4544 - val_mae: 5.8010 - val_mse: 46.4544 - 1s/epoch - 34ms/step\n",
            "Epoch 82/200\n",
            "31/31 - 1s - loss: 0.8597 - mae: 0.6616 - mse: 0.8597 - val_loss: 47.1355 - val_mae: 5.8731 - val_mse: 47.1355 - 1s/epoch - 36ms/step\n",
            "Epoch 83/200\n",
            "31/31 - 1s - loss: 0.5101 - mae: 0.5140 - mse: 0.5101 - val_loss: 50.0851 - val_mae: 6.1026 - val_mse: 50.0851 - 1s/epoch - 34ms/step\n",
            "Epoch 84/200\n",
            "31/31 - 1s - loss: 1.0829 - mae: 0.7091 - mse: 1.0829 - val_loss: 48.8223 - val_mae: 5.9857 - val_mse: 48.8223 - 1s/epoch - 34ms/step\n",
            "Epoch 85/200\n",
            "31/31 - 1s - loss: 0.5538 - mae: 0.5487 - mse: 0.5538 - val_loss: 48.6833 - val_mae: 5.9816 - val_mse: 48.6833 - 1s/epoch - 34ms/step\n",
            "Epoch 86/200\n",
            "31/31 - 1s - loss: 2.2507 - mae: 0.9102 - mse: 2.2507 - val_loss: 47.3893 - val_mae: 5.8418 - val_mse: 47.3893 - 1s/epoch - 34ms/step\n",
            "Epoch 87/200\n",
            "31/31 - 1s - loss: 0.5180 - mae: 0.5413 - mse: 0.5180 - val_loss: 47.6053 - val_mae: 5.8983 - val_mse: 47.6053 - 1s/epoch - 36ms/step\n",
            "Epoch 88/200\n",
            "31/31 - 1s - loss: 1.6689 - mae: 0.8102 - mse: 1.6689 - val_loss: 48.7600 - val_mae: 5.9690 - val_mse: 48.7600 - 1s/epoch - 34ms/step\n",
            "Epoch 89/200\n",
            "31/31 - 1s - loss: 1.2799 - mae: 0.7496 - mse: 1.2799 - val_loss: 48.8266 - val_mae: 6.0028 - val_mse: 48.8266 - 1s/epoch - 34ms/step\n",
            "Epoch 90/200\n",
            "31/31 - 1s - loss: 1.0849 - mae: 0.7371 - mse: 1.0849 - val_loss: 47.2420 - val_mae: 5.8411 - val_mse: 47.2420 - 1s/epoch - 36ms/step\n",
            "Epoch 91/200\n",
            "31/31 - 1s - loss: 0.7532 - mae: 0.6406 - mse: 0.7532 - val_loss: 46.8249 - val_mae: 5.8257 - val_mse: 46.8249 - 1s/epoch - 36ms/step\n",
            "Epoch 92/200\n",
            "31/31 - 1s - loss: 0.8833 - mae: 0.6369 - mse: 0.8833 - val_loss: 46.6330 - val_mae: 5.7843 - val_mse: 46.6330 - 1s/epoch - 34ms/step\n",
            "Epoch 93/200\n",
            "31/31 - 1s - loss: 1.0607 - mae: 0.6672 - mse: 1.0607 - val_loss: 47.4664 - val_mae: 5.8531 - val_mse: 47.4664 - 1s/epoch - 36ms/step\n",
            "Epoch 94/200\n",
            "31/31 - 1s - loss: 0.6647 - mae: 0.6126 - mse: 0.6647 - val_loss: 46.2493 - val_mae: 5.7597 - val_mse: 46.2493 - 1s/epoch - 36ms/step\n",
            "Epoch 95/200\n",
            "31/31 - 1s - loss: 0.8933 - mae: 0.7143 - mse: 0.8933 - val_loss: 46.7220 - val_mae: 5.8275 - val_mse: 46.7220 - 1s/epoch - 36ms/step\n",
            "Epoch 96/200\n",
            "31/31 - 1s - loss: 0.7046 - mae: 0.6155 - mse: 0.7046 - val_loss: 47.1177 - val_mae: 5.8458 - val_mse: 47.1177 - 1s/epoch - 36ms/step\n",
            "Epoch 97/200\n",
            "31/31 - 1s - loss: 0.7907 - mae: 0.5992 - mse: 0.7907 - val_loss: 47.7906 - val_mae: 5.9260 - val_mse: 47.7906 - 1s/epoch - 34ms/step\n",
            "Epoch 98/200\n",
            "31/31 - 1s - loss: 0.6742 - mae: 0.6251 - mse: 0.6742 - val_loss: 46.5029 - val_mae: 5.7965 - val_mse: 46.5029 - 1s/epoch - 34ms/step\n",
            "Epoch 99/200\n",
            "31/31 - 1s - loss: 1.3334 - mae: 0.7447 - mse: 1.3334 - val_loss: 46.5215 - val_mae: 5.7536 - val_mse: 46.5215 - 1s/epoch - 36ms/step\n",
            "Epoch 100/200\n",
            "31/31 - 1s - loss: 0.7470 - mae: 0.6534 - mse: 0.7470 - val_loss: 46.9596 - val_mae: 5.7920 - val_mse: 46.9596 - 1s/epoch - 34ms/step\n",
            "Epoch 101/200\n",
            "31/31 - 1s - loss: 0.7230 - mae: 0.6340 - mse: 0.7230 - val_loss: 46.8002 - val_mae: 5.7279 - val_mse: 46.8002 - 1s/epoch - 36ms/step\n",
            "Epoch 102/200\n",
            "31/31 - 1s - loss: 0.8483 - mae: 0.6679 - mse: 0.8483 - val_loss: 45.8932 - val_mae: 5.7191 - val_mse: 45.8932 - 1s/epoch - 36ms/step\n",
            "Epoch 103/200\n",
            "31/31 - 1s - loss: 0.6084 - mae: 0.5702 - mse: 0.6084 - val_loss: 46.9777 - val_mae: 5.8402 - val_mse: 46.9777 - 1s/epoch - 36ms/step\n",
            "Epoch 104/200\n",
            "31/31 - 1s - loss: 1.1361 - mae: 0.6954 - mse: 1.1361 - val_loss: 48.6000 - val_mae: 5.9493 - val_mse: 48.6000 - 1s/epoch - 34ms/step\n",
            "Epoch 105/200\n",
            "31/31 - 1s - loss: 0.5276 - mae: 0.5418 - mse: 0.5276 - val_loss: 50.1839 - val_mae: 6.1011 - val_mse: 50.1839 - 1s/epoch - 36ms/step\n",
            "Epoch 106/200\n",
            "31/31 - 1s - loss: 0.8145 - mae: 0.6799 - mse: 0.8145 - val_loss: 46.8852 - val_mae: 5.8281 - val_mse: 46.8852 - 1s/epoch - 36ms/step\n",
            "Epoch 107/200\n",
            "31/31 - 1s - loss: 0.7093 - mae: 0.6144 - mse: 0.7093 - val_loss: 47.0348 - val_mae: 5.8695 - val_mse: 47.0348 - 1s/epoch - 36ms/step\n",
            "Epoch 108/200\n",
            "31/31 - 1s - loss: 0.6525 - mae: 0.6105 - mse: 0.6525 - val_loss: 47.2379 - val_mae: 5.8875 - val_mse: 47.2379 - 1s/epoch - 34ms/step\n",
            "Epoch 109/200\n",
            "31/31 - 1s - loss: 0.6115 - mae: 0.5722 - mse: 0.6115 - val_loss: 48.8915 - val_mae: 6.0068 - val_mse: 48.8915 - 1s/epoch - 34ms/step\n",
            "Epoch 110/200\n",
            "31/31 - 1s - loss: 0.6400 - mae: 0.5757 - mse: 0.6400 - val_loss: 49.6372 - val_mae: 6.0542 - val_mse: 49.6372 - 1s/epoch - 36ms/step\n",
            "Epoch 111/200\n",
            "31/31 - 1s - loss: 0.6772 - mae: 0.6198 - mse: 0.6772 - val_loss: 47.7035 - val_mae: 5.9077 - val_mse: 47.7035 - 1s/epoch - 34ms/step\n",
            "Epoch 112/200\n",
            "31/31 - 1s - loss: 0.6439 - mae: 0.5951 - mse: 0.6439 - val_loss: 46.6007 - val_mae: 5.8151 - val_mse: 46.6007 - 1s/epoch - 36ms/step\n",
            "Epoch 113/200\n",
            "31/31 - 1s - loss: 0.6235 - mae: 0.5699 - mse: 0.6235 - val_loss: 46.7336 - val_mae: 5.7627 - val_mse: 46.7336 - 1s/epoch - 34ms/step\n",
            "Epoch 114/200\n",
            "31/31 - 1s - loss: 0.6895 - mae: 0.5828 - mse: 0.6895 - val_loss: 46.6010 - val_mae: 5.8079 - val_mse: 46.6010 - 1s/epoch - 36ms/step\n",
            "Epoch 115/200\n",
            "31/31 - 1s - loss: 0.5415 - mae: 0.5486 - mse: 0.5415 - val_loss: 48.4730 - val_mae: 5.9720 - val_mse: 48.4730 - 1s/epoch - 34ms/step\n",
            "Epoch 116/200\n",
            "31/31 - 1s - loss: 0.9784 - mae: 0.6662 - mse: 0.9784 - val_loss: 47.8143 - val_mae: 5.9158 - val_mse: 47.8143 - 1s/epoch - 36ms/step\n",
            "Epoch 117/200\n",
            "31/31 - 1s - loss: 0.4970 - mae: 0.5308 - mse: 0.4970 - val_loss: 48.2939 - val_mae: 5.9638 - val_mse: 48.2939 - 1s/epoch - 36ms/step\n",
            "Epoch 118/200\n",
            "31/31 - 1s - loss: 0.8216 - mae: 0.6563 - mse: 0.8216 - val_loss: 46.5101 - val_mae: 5.7865 - val_mse: 46.5101 - 1s/epoch - 34ms/step\n",
            "Epoch 119/200\n",
            "31/31 - 1s - loss: 0.6583 - mae: 0.5804 - mse: 0.6583 - val_loss: 46.2040 - val_mae: 5.7022 - val_mse: 46.2040 - 1s/epoch - 36ms/step\n",
            "Epoch 120/200\n",
            "31/31 - 1s - loss: 0.6102 - mae: 0.5962 - mse: 0.6102 - val_loss: 47.4254 - val_mae: 5.8906 - val_mse: 47.4254 - 1s/epoch - 34ms/step\n",
            "Epoch 121/200\n",
            "31/31 - 1s - loss: 1.2570 - mae: 0.8041 - mse: 1.2570 - val_loss: 46.1826 - val_mae: 5.7765 - val_mse: 46.1826 - 1s/epoch - 36ms/step\n",
            "Epoch 122/200\n",
            "31/31 - 1s - loss: 0.5427 - mae: 0.5489 - mse: 0.5427 - val_loss: 48.7679 - val_mae: 5.9842 - val_mse: 48.7679 - 1s/epoch - 36ms/step\n",
            "Epoch 123/200\n",
            "31/31 - 1s - loss: 0.6806 - mae: 0.5987 - mse: 0.6806 - val_loss: 48.0461 - val_mae: 5.9049 - val_mse: 48.0461 - 1s/epoch - 34ms/step\n",
            "Epoch 124/200\n",
            "31/31 - 1s - loss: 0.7388 - mae: 0.6008 - mse: 0.7388 - val_loss: 47.2959 - val_mae: 5.8834 - val_mse: 47.2959 - 1s/epoch - 34ms/step\n",
            "Epoch 125/200\n",
            "31/31 - 1s - loss: 0.5430 - mae: 0.5193 - mse: 0.5430 - val_loss: 47.3800 - val_mae: 5.8456 - val_mse: 47.3800 - 1s/epoch - 34ms/step\n",
            "Epoch 126/200\n",
            "31/31 - 1s - loss: 0.5345 - mae: 0.5373 - mse: 0.5345 - val_loss: 47.2717 - val_mae: 5.8560 - val_mse: 47.2717 - 1s/epoch - 35ms/step\n",
            "Epoch 127/200\n",
            "31/31 - 1s - loss: 0.6369 - mae: 0.5625 - mse: 0.6369 - val_loss: 47.1411 - val_mae: 5.8095 - val_mse: 47.1411 - 1s/epoch - 36ms/step\n",
            "Epoch 128/200\n",
            "31/31 - 1s - loss: 0.5810 - mae: 0.5607 - mse: 0.5810 - val_loss: 46.4307 - val_mae: 5.8373 - val_mse: 46.4307 - 1s/epoch - 36ms/step\n",
            "Epoch 129/200\n",
            "31/31 - 1s - loss: 0.6469 - mae: 0.5829 - mse: 0.6469 - val_loss: 48.9666 - val_mae: 5.9961 - val_mse: 48.9666 - 1s/epoch - 35ms/step\n",
            "Epoch 130/200\n",
            "31/31 - 1s - loss: 0.6639 - mae: 0.5819 - mse: 0.6639 - val_loss: 46.6524 - val_mae: 5.8273 - val_mse: 46.6524 - 1s/epoch - 34ms/step\n",
            "Epoch 131/200\n",
            "31/31 - 1s - loss: 0.5699 - mae: 0.5184 - mse: 0.5699 - val_loss: 47.2000 - val_mae: 5.9011 - val_mse: 47.2000 - 1s/epoch - 34ms/step\n",
            "Epoch 132/200\n",
            "31/31 - 1s - loss: 0.7760 - mae: 0.6218 - mse: 0.7760 - val_loss: 48.2284 - val_mae: 5.9615 - val_mse: 48.2284 - 1s/epoch - 34ms/step\n",
            "Epoch 133/200\n",
            "31/31 - 1s - loss: 0.4244 - mae: 0.4787 - mse: 0.4244 - val_loss: 46.6365 - val_mae: 5.8291 - val_mse: 46.6365 - 1s/epoch - 36ms/step\n",
            "Epoch 134/200\n",
            "31/31 - 1s - loss: 0.5658 - mae: 0.5454 - mse: 0.5658 - val_loss: 49.3579 - val_mae: 6.0513 - val_mse: 49.3579 - 1s/epoch - 36ms/step\n",
            "Epoch 135/200\n",
            "31/31 - 1s - loss: 0.6406 - mae: 0.5816 - mse: 0.6406 - val_loss: 47.6556 - val_mae: 5.9301 - val_mse: 47.6556 - 1s/epoch - 34ms/step\n",
            "Epoch 136/200\n",
            "31/31 - 1s - loss: 0.4926 - mae: 0.5117 - mse: 0.4926 - val_loss: 48.2538 - val_mae: 5.9667 - val_mse: 48.2538 - 1s/epoch - 34ms/step\n",
            "Epoch 137/200\n",
            "31/31 - 1s - loss: 0.6143 - mae: 0.5830 - mse: 0.6143 - val_loss: 47.4458 - val_mae: 5.9242 - val_mse: 47.4458 - 1s/epoch - 36ms/step\n",
            "Epoch 138/200\n",
            "31/31 - 1s - loss: 0.7299 - mae: 0.5717 - mse: 0.7299 - val_loss: 47.4425 - val_mae: 5.8903 - val_mse: 47.4425 - 1s/epoch - 35ms/step\n",
            "Epoch 139/200\n",
            "31/31 - 1s - loss: 0.3945 - mae: 0.4471 - mse: 0.3945 - val_loss: 47.5669 - val_mae: 5.8942 - val_mse: 47.5669 - 1s/epoch - 36ms/step\n",
            "Epoch 140/200\n",
            "31/31 - 1s - loss: 0.5190 - mae: 0.4849 - mse: 0.5190 - val_loss: 48.2068 - val_mae: 6.0031 - val_mse: 48.2068 - 1s/epoch - 34ms/step\n",
            "Epoch 141/200\n",
            "31/31 - 1s - loss: 0.5818 - mae: 0.5359 - mse: 0.5818 - val_loss: 47.0951 - val_mae: 5.8813 - val_mse: 47.0951 - 1s/epoch - 36ms/step\n",
            "Epoch 142/200\n",
            "31/31 - 1s - loss: 0.5231 - mae: 0.5124 - mse: 0.5231 - val_loss: 49.4361 - val_mae: 6.0556 - val_mse: 49.4361 - 1s/epoch - 34ms/step\n",
            "Epoch 143/200\n",
            "31/31 - 1s - loss: 0.7256 - mae: 0.6014 - mse: 0.7256 - val_loss: 47.0269 - val_mae: 5.8846 - val_mse: 47.0269 - 1s/epoch - 36ms/step\n",
            "Epoch 144/200\n",
            "31/31 - 1s - loss: 0.4820 - mae: 0.4981 - mse: 0.4820 - val_loss: 48.2836 - val_mae: 5.9975 - val_mse: 48.2836 - 1s/epoch - 34ms/step\n",
            "Epoch 145/200\n",
            "31/31 - 1s - loss: 0.4409 - mae: 0.4989 - mse: 0.4409 - val_loss: 47.2352 - val_mae: 5.8320 - val_mse: 47.2352 - 1s/epoch - 34ms/step\n",
            "Epoch 146/200\n",
            "31/31 - 1s - loss: 0.7321 - mae: 0.6134 - mse: 0.7321 - val_loss: 48.7340 - val_mae: 5.9806 - val_mse: 48.7340 - 1s/epoch - 34ms/step\n",
            "Epoch 147/200\n",
            "31/31 - 1s - loss: 1.0467 - mae: 0.6840 - mse: 1.0467 - val_loss: 47.2802 - val_mae: 5.8737 - val_mse: 47.2802 - 1s/epoch - 34ms/step\n",
            "Epoch 148/200\n",
            "31/31 - 1s - loss: 0.7056 - mae: 0.6488 - mse: 0.7056 - val_loss: 48.0643 - val_mae: 5.9163 - val_mse: 48.0643 - 1s/epoch - 36ms/step\n",
            "Epoch 149/200\n",
            "31/31 - 1s - loss: 0.7145 - mae: 0.5992 - mse: 0.7145 - val_loss: 47.1583 - val_mae: 5.8483 - val_mse: 47.1583 - 1s/epoch - 35ms/step\n",
            "Epoch 150/200\n",
            "31/31 - 1s - loss: 1.7334 - mae: 0.7630 - mse: 1.7334 - val_loss: 47.7961 - val_mae: 5.8957 - val_mse: 47.7961 - 1s/epoch - 36ms/step\n",
            "Epoch 151/200\n",
            "31/31 - 1s - loss: 0.5085 - mae: 0.5420 - mse: 0.5085 - val_loss: 48.8852 - val_mae: 5.9686 - val_mse: 48.8852 - 1s/epoch - 34ms/step\n",
            "Epoch 152/200\n",
            "31/31 - 1s - loss: 0.6842 - mae: 0.5819 - mse: 0.6842 - val_loss: 50.2129 - val_mae: 6.1067 - val_mse: 50.2129 - 1s/epoch - 36ms/step\n",
            "Epoch 153/200\n",
            "31/31 - 1s - loss: 0.6231 - mae: 0.5547 - mse: 0.6231 - val_loss: 48.3631 - val_mae: 5.9688 - val_mse: 48.3631 - 1s/epoch - 34ms/step\n",
            "Epoch 154/200\n",
            "31/31 - 1s - loss: 0.5783 - mae: 0.5605 - mse: 0.5783 - val_loss: 47.1087 - val_mae: 5.8567 - val_mse: 47.1087 - 1s/epoch - 36ms/step\n",
            "Epoch 155/200\n",
            "31/31 - 1s - loss: 0.5010 - mae: 0.5222 - mse: 0.5010 - val_loss: 47.4384 - val_mae: 5.8676 - val_mse: 47.4384 - 1s/epoch - 34ms/step\n",
            "Epoch 156/200\n",
            "31/31 - 1s - loss: 0.5728 - mae: 0.5694 - mse: 0.5728 - val_loss: 47.7486 - val_mae: 5.9240 - val_mse: 47.7486 - 1s/epoch - 34ms/step\n",
            "Epoch 157/200\n",
            "31/31 - 1s - loss: 0.6547 - mae: 0.5432 - mse: 0.6547 - val_loss: 47.1729 - val_mae: 5.8634 - val_mse: 47.1729 - 1s/epoch - 36ms/step\n",
            "Epoch 158/200\n",
            "31/31 - 1s - loss: 0.4234 - mae: 0.4675 - mse: 0.4234 - val_loss: 48.4099 - val_mae: 5.9929 - val_mse: 48.4099 - 1s/epoch - 35ms/step\n",
            "Epoch 159/200\n",
            "31/31 - 1s - loss: 0.4298 - mae: 0.4921 - mse: 0.4298 - val_loss: 48.2331 - val_mae: 5.9691 - val_mse: 48.2331 - 1s/epoch - 35ms/step\n",
            "Epoch 160/200\n",
            "31/31 - 1s - loss: 0.5583 - mae: 0.5272 - mse: 0.5583 - val_loss: 48.6490 - val_mae: 6.0202 - val_mse: 48.6490 - 1s/epoch - 35ms/step\n",
            "Epoch 161/200\n",
            "31/31 - 1s - loss: 0.7394 - mae: 0.6097 - mse: 0.7394 - val_loss: 47.9182 - val_mae: 5.9325 - val_mse: 47.9182 - 1s/epoch - 34ms/step\n",
            "Epoch 162/200\n",
            "31/31 - 1s - loss: 0.6154 - mae: 0.5643 - mse: 0.6154 - val_loss: 48.6048 - val_mae: 5.9722 - val_mse: 48.6048 - 1s/epoch - 34ms/step\n",
            "Epoch 163/200\n",
            "31/31 - 1s - loss: 0.6193 - mae: 0.5624 - mse: 0.6193 - val_loss: 48.7388 - val_mae: 6.0116 - val_mse: 48.7388 - 1s/epoch - 36ms/step\n",
            "Epoch 164/200\n",
            "31/31 - 1s - loss: 0.3316 - mae: 0.4273 - mse: 0.3316 - val_loss: 49.0001 - val_mae: 6.0381 - val_mse: 49.0001 - 1s/epoch - 34ms/step\n",
            "Epoch 165/200\n",
            "31/31 - 1s - loss: 1.3326 - mae: 0.7041 - mse: 1.3326 - val_loss: 48.6822 - val_mae: 5.9339 - val_mse: 48.6822 - 1s/epoch - 34ms/step\n",
            "Epoch 166/200\n",
            "31/31 - 1s - loss: 0.5043 - mae: 0.5109 - mse: 0.5043 - val_loss: 48.2045 - val_mae: 5.9402 - val_mse: 48.2045 - 1s/epoch - 34ms/step\n",
            "Epoch 167/200\n",
            "31/31 - 1s - loss: 0.3755 - mae: 0.4588 - mse: 0.3755 - val_loss: 51.2687 - val_mae: 6.1935 - val_mse: 51.2687 - 1s/epoch - 34ms/step\n",
            "Epoch 168/200\n",
            "31/31 - 1s - loss: 2.3485 - mae: 0.8489 - mse: 2.3485 - val_loss: 48.4178 - val_mae: 5.9241 - val_mse: 48.4178 - 1s/epoch - 34ms/step\n",
            "Epoch 169/200\n",
            "31/31 - 1s - loss: 0.4691 - mae: 0.4931 - mse: 0.4691 - val_loss: 48.9431 - val_mae: 5.9936 - val_mse: 48.9431 - 1s/epoch - 36ms/step\n",
            "Epoch 170/200\n",
            "31/31 - 1s - loss: 0.6290 - mae: 0.5744 - mse: 0.6290 - val_loss: 47.6142 - val_mae: 5.8933 - val_mse: 47.6142 - 1s/epoch - 34ms/step\n",
            "Epoch 171/200\n",
            "31/31 - 1s - loss: 0.4269 - mae: 0.4749 - mse: 0.4269 - val_loss: 48.8054 - val_mae: 6.0046 - val_mse: 48.8054 - 1s/epoch - 34ms/step\n",
            "Epoch 172/200\n",
            "31/31 - 1s - loss: 0.6052 - mae: 0.5387 - mse: 0.6052 - val_loss: 48.3077 - val_mae: 5.9711 - val_mse: 48.3077 - 1s/epoch - 34ms/step\n",
            "Epoch 173/200\n",
            "31/31 - 1s - loss: 0.4278 - mae: 0.4866 - mse: 0.4278 - val_loss: 47.7581 - val_mae: 5.8833 - val_mse: 47.7581 - 1s/epoch - 36ms/step\n",
            "Epoch 174/200\n",
            "31/31 - 1s - loss: 0.5173 - mae: 0.5220 - mse: 0.5173 - val_loss: 49.1222 - val_mae: 6.0585 - val_mse: 49.1222 - 1s/epoch - 34ms/step\n",
            "Epoch 175/200\n",
            "31/31 - 1s - loss: 2.9709 - mae: 0.8269 - mse: 2.9709 - val_loss: 50.0019 - val_mae: 6.0624 - val_mse: 50.0019 - 1s/epoch - 36ms/step\n",
            "Epoch 176/200\n",
            "31/31 - 1s - loss: 0.2819 - mae: 0.3910 - mse: 0.2819 - val_loss: 49.6973 - val_mae: 6.1022 - val_mse: 49.6973 - 1s/epoch - 34ms/step\n",
            "Epoch 177/200\n",
            "31/31 - 1s - loss: 0.3583 - mae: 0.4388 - mse: 0.3583 - val_loss: 47.2570 - val_mae: 5.8372 - val_mse: 47.2570 - 1s/epoch - 34ms/step\n",
            "Epoch 178/200\n",
            "31/31 - 1s - loss: 0.5124 - mae: 0.5225 - mse: 0.5124 - val_loss: 48.4993 - val_mae: 5.9559 - val_mse: 48.4993 - 1s/epoch - 34ms/step\n",
            "Epoch 179/200\n",
            "31/31 - 1s - loss: 0.5929 - mae: 0.5577 - mse: 0.5929 - val_loss: 47.6743 - val_mae: 5.9145 - val_mse: 47.6743 - 1s/epoch - 34ms/step\n",
            "Epoch 180/200\n",
            "31/31 - 1s - loss: 0.3884 - mae: 0.4516 - mse: 0.3884 - val_loss: 48.4967 - val_mae: 5.9457 - val_mse: 48.4967 - 1s/epoch - 36ms/step\n",
            "Epoch 181/200\n",
            "31/31 - 1s - loss: 0.6132 - mae: 0.5807 - mse: 0.6132 - val_loss: 48.1860 - val_mae: 5.9525 - val_mse: 48.1860 - 1s/epoch - 35ms/step\n",
            "Epoch 182/200\n",
            "31/31 - 1s - loss: 2.2317 - mae: 0.8612 - mse: 2.2317 - val_loss: 62.9912 - val_mae: 6.8184 - val_mse: 62.9912 - 1s/epoch - 34ms/step\n",
            "Epoch 183/200\n",
            "31/31 - 1s - loss: 1.8988 - mae: 0.8203 - mse: 1.8988 - val_loss: 49.0279 - val_mae: 6.0129 - val_mse: 49.0279 - 1s/epoch - 34ms/step\n",
            "Epoch 184/200\n",
            "31/31 - 1s - loss: 0.8443 - mae: 0.6616 - mse: 0.8443 - val_loss: 49.1298 - val_mae: 5.9663 - val_mse: 49.1298 - 1s/epoch - 34ms/step\n",
            "Epoch 185/200\n",
            "31/31 - 1s - loss: 1.2686 - mae: 0.7154 - mse: 1.2686 - val_loss: 47.7531 - val_mae: 5.8578 - val_mse: 47.7531 - 1s/epoch - 34ms/step\n",
            "Epoch 186/200\n",
            "31/31 - 1s - loss: 0.5716 - mae: 0.5485 - mse: 0.5716 - val_loss: 48.9040 - val_mae: 5.9745 - val_mse: 48.9040 - 1s/epoch - 36ms/step\n",
            "Epoch 187/200\n",
            "31/31 - 1s - loss: 0.4478 - mae: 0.4901 - mse: 0.4478 - val_loss: 47.9809 - val_mae: 5.8165 - val_mse: 47.9809 - 1s/epoch - 34ms/step\n",
            "Epoch 188/200\n",
            "31/31 - 1s - loss: 1.0910 - mae: 0.6907 - mse: 1.0910 - val_loss: 47.2352 - val_mae: 5.8179 - val_mse: 47.2352 - 1s/epoch - 36ms/step\n",
            "Epoch 189/200\n",
            "31/31 - 1s - loss: 3.4591 - mae: 1.0665 - mse: 3.4591 - val_loss: 49.1562 - val_mae: 5.8839 - val_mse: 49.1562 - 1s/epoch - 36ms/step\n",
            "Epoch 190/200\n",
            "31/31 - 1s - loss: 0.8623 - mae: 0.7082 - mse: 0.8623 - val_loss: 51.8430 - val_mae: 6.1610 - val_mse: 51.8430 - 1s/epoch - 36ms/step\n",
            "Epoch 191/200\n",
            "31/31 - 1s - loss: 1.0888 - mae: 0.7945 - mse: 1.0888 - val_loss: 53.0650 - val_mae: 6.2387 - val_mse: 53.0650 - 1s/epoch - 36ms/step\n",
            "Epoch 192/200\n",
            "31/31 - 1s - loss: 1.4325 - mae: 0.8702 - mse: 1.4325 - val_loss: 47.8828 - val_mae: 5.8888 - val_mse: 47.8828 - 1s/epoch - 34ms/step\n",
            "Epoch 193/200\n",
            "31/31 - 1s - loss: 0.7511 - mae: 0.6647 - mse: 0.7511 - val_loss: 47.9809 - val_mae: 5.8581 - val_mse: 47.9809 - 1s/epoch - 36ms/step\n",
            "Epoch 194/200\n",
            "31/31 - 1s - loss: 0.9499 - mae: 0.7467 - mse: 0.9499 - val_loss: 48.4848 - val_mae: 5.9357 - val_mse: 48.4848 - 1s/epoch - 34ms/step\n",
            "Epoch 195/200\n",
            "31/31 - 1s - loss: 0.7311 - mae: 0.6443 - mse: 0.7311 - val_loss: 48.6637 - val_mae: 5.9539 - val_mse: 48.6637 - 1s/epoch - 34ms/step\n",
            "Epoch 196/200\n",
            "31/31 - 1s - loss: 1.0470 - mae: 0.6573 - mse: 1.0470 - val_loss: 48.6336 - val_mae: 5.9483 - val_mse: 48.6336 - 1s/epoch - 36ms/step\n",
            "Epoch 197/200\n",
            "31/31 - 1s - loss: 0.7719 - mae: 0.6459 - mse: 0.7719 - val_loss: 48.3542 - val_mae: 5.9431 - val_mse: 48.3542 - 1s/epoch - 34ms/step\n",
            "Epoch 198/200\n",
            "31/31 - 1s - loss: 0.5684 - mae: 0.5558 - mse: 0.5684 - val_loss: 46.6166 - val_mae: 5.7966 - val_mse: 46.6166 - 1s/epoch - 35ms/step\n",
            "Epoch 199/200\n",
            "31/31 - 1s - loss: 0.8761 - mae: 0.6385 - mse: 0.8761 - val_loss: 48.9600 - val_mae: 5.9539 - val_mse: 48.9600 - 1s/epoch - 34ms/step\n",
            "Epoch 200/200\n",
            "31/31 - 1s - loss: 0.6725 - mae: 0.5931 - mse: 0.6725 - val_loss: 49.0083 - val_mae: 5.9802 - val_mse: 49.0083 - 1s/epoch - 34ms/step\n"
          ]
        }
      ]
    },
    {
      "cell_type": "code",
      "metadata": {
        "colab": {
          "base_uri": "https://localhost:8080/",
          "height": 421
        },
        "id": "gqPn7LwE-9ww",
        "outputId": "76cd7261-3a68-4c41-825f-774bbac969c0"
      },
      "source": [
        "import matplotlib.pyplot as plt\n",
        "plt.rcParams[\"figure.figsize\"] = (10,6)\n",
        "k = 5\n",
        "plt.plot(history.history['loss'][k:])\n",
        "plt.plot(history.history['mae'][k:])\n",
        "plt.plot(history.history['val_mae'][k:])\n",
        "plt.plot(history.history['val_mse'][k:])\n",
        "plt.title('Treinamento')\n",
        "plt.ylabel('metrica')\n",
        "plt.xlabel('epoch')\n",
        "plt.legend(['loss', 'mae','val_mae','val_mse'], loc='upper left')"
      ],
      "execution_count": null,
      "outputs": [
        {
          "output_type": "execute_result",
          "data": {
            "text/plain": [
              "<matplotlib.legend.Legend at 0x7fb7367953d0>"
            ]
          },
          "metadata": {},
          "execution_count": 26
        },
        {
          "output_type": "display_data",
          "data": {
            "image/png": "[encoded data removed]",
            "text/plain": [
              "<Figure size 720x432 with 1 Axes>"
            ]
          },
          "metadata": {
            "needs_background": "light"
          }
        }
      ]
    },
    {
      "cell_type": "code",
      "metadata": {
        "colab": {
          "base_uri": "https://localhost:8080/",
          "height": 300
        },
        "id": "jYDUMCkB-Zp7",
        "outputId": "dbd5df4e-d22c-4f1d-9355-84c2c54bddad"
      },
      "source": [
        "import pandas as pd\n",
        "pd.DataFrame(history.history).describe()"
      ],
      "execution_count": null,
      "outputs": [
        {
          "output_type": "execute_result",
          "data": {
            "text/html": [
              "<div>\n",
              "<style scoped>\n",
              "    .dataframe tbody tr th:only-of-type {\n",
              "        vertical-align: middle;\n",
              "    }\n",
              "\n",
              "    .dataframe tbody tr th {\n",
              "        vertical-align: top;\n",
              "    }\n",
              "\n",
              "    .dataframe thead th {\n",
              "        text-align: right;\n",
              "    }\n",
              "</style>\n",
              "<table border=\"1\" class=\"dataframe\">\n",
              "  <thead>\n",
              "    <tr style=\"text-align: right;\">\n",
              "      <th></th>\n",
              "      <th>loss</th>\n",
              "      <th>mae</th>\n",
              "      <th>mse</th>\n",
              "      <th>val_loss</th>\n",
              "      <th>val_mae</th>\n",
              "      <th>val_mse</th>\n",
              "    </tr>\n",
              "  </thead>\n",
              "  <tbody>\n",
              "    <tr>\n",
              "      <th>count</th>\n",
              "      <td>200.000000</td>\n",
              "      <td>200.000000</td>\n",
              "      <td>200.000000</td>\n",
              "      <td>200.000000</td>\n",
              "      <td>200.000000</td>\n",
              "      <td>200.000000</td>\n",
              "    </tr>\n",
              "    <tr>\n",
              "      <th>mean</th>\n",
              "      <td>1.120493</td>\n",
              "      <td>0.687550</td>\n",
              "      <td>1.120493</td>\n",
              "      <td>48.353841</td>\n",
              "      <td>5.938720</td>\n",
              "      <td>48.353841</td>\n",
              "    </tr>\n",
              "    <tr>\n",
              "      <th>std</th>\n",
              "      <td>1.241735</td>\n",
              "      <td>0.183449</td>\n",
              "      <td>1.241735</td>\n",
              "      <td>1.856255</td>\n",
              "      <td>0.135930</td>\n",
              "      <td>1.856255</td>\n",
              "    </tr>\n",
              "    <tr>\n",
              "      <th>min</th>\n",
              "      <td>0.281942</td>\n",
              "      <td>0.391002</td>\n",
              "      <td>0.281942</td>\n",
              "      <td>45.893211</td>\n",
              "      <td>5.658524</td>\n",
              "      <td>45.893208</td>\n",
              "    </tr>\n",
              "    <tr>\n",
              "      <th>25%</th>\n",
              "      <td>0.622123</td>\n",
              "      <td>0.571352</td>\n",
              "      <td>0.622123</td>\n",
              "      <td>47.252058</td>\n",
              "      <td>5.849362</td>\n",
              "      <td>47.252058</td>\n",
              "    </tr>\n",
              "    <tr>\n",
              "      <th>50%</th>\n",
              "      <td>0.814007</td>\n",
              "      <td>0.660030</td>\n",
              "      <td>0.814007</td>\n",
              "      <td>48.195215</td>\n",
              "      <td>5.934487</td>\n",
              "      <td>48.195215</td>\n",
              "    </tr>\n",
              "    <tr>\n",
              "      <th>75%</th>\n",
              "      <td>1.158025</td>\n",
              "      <td>0.758739</td>\n",
              "      <td>1.158025</td>\n",
              "      <td>48.886730</td>\n",
              "      <td>5.993105</td>\n",
              "      <td>48.886730</td>\n",
              "    </tr>\n",
              "    <tr>\n",
              "      <th>max</th>\n",
              "      <td>12.700800</td>\n",
              "      <td>1.903701</td>\n",
              "      <td>12.700800</td>\n",
              "      <td>62.991203</td>\n",
              "      <td>6.818378</td>\n",
              "      <td>62.991203</td>\n",
              "    </tr>\n",
              "  </tbody>\n",
              "</table>\n",
              "</div>"
            ],
            "text/plain": [
              "             loss         mae         mse    val_loss     val_mae     val_mse\n",
              "count  200.000000  200.000000  200.000000  200.000000  200.000000  200.000000\n",
              "mean     1.120493    0.687550    1.120493   48.353841    5.938720   48.353841\n",
              "std      1.241735    0.183449    1.241735    1.856255    0.135930    1.856255\n",
              "min      0.281942    0.391002    0.281942   45.893211    5.658524   45.893208\n",
              "25%      0.622123    0.571352    0.622123   47.252058    5.849362   47.252058\n",
              "50%      0.814007    0.660030    0.814007   48.195215    5.934487   48.195215\n",
              "75%      1.158025    0.758739    1.158025   48.886730    5.993105   48.886730\n",
              "max     12.700800    1.903701   12.700800   62.991203    6.818378   62.991203"
            ]
          },
          "metadata": {},
          "execution_count": 27
        }
      ]
    },
    {
      "cell_type": "markdown",
      "metadata": {
        "id": "EYLp5S7EaHC3"
      },
      "source": [
        "# Testes dos Resultados"
      ]
    },
    {
      "cell_type": "code",
      "metadata": {
        "colab": {
          "base_uri": "https://localhost:8080/",
          "height": 424
        },
        "id": "FD5TvG9KPjM-",
        "outputId": "85c4d586-b33a-452f-c1f0-f6fb53ddf96a"
      },
      "source": [
        "y_pred = model.predict(X)\n",
        "y_pred = [u[0] for u in y_pred]\n",
        "resultados = pd.DataFrame([y, y_pred], index=['Tutor','Previsto']).T\n",
        "resultados.to_csv('Resultados.csv')\n",
        "resultados"
      ],
      "execution_count": null,
      "outputs": [
        {
          "output_type": "execute_result",
          "data": {
            "text/html": [
              "<div>\n",
              "<style scoped>\n",
              "    .dataframe tbody tr th:only-of-type {\n",
              "        vertical-align: middle;\n",
              "    }\n",
              "\n",
              "    .dataframe tbody tr th {\n",
              "        vertical-align: top;\n",
              "    }\n",
              "\n",
              "    .dataframe thead th {\n",
              "        text-align: right;\n",
              "    }\n",
              "</style>\n",
              "<table border=\"1\" class=\"dataframe\">\n",
              "  <thead>\n",
              "    <tr style=\"text-align: right;\">\n",
              "      <th></th>\n",
              "      <th>Tutor</th>\n",
              "      <th>Previsto</th>\n",
              "    </tr>\n",
              "  </thead>\n",
              "  <tbody>\n",
              "    <tr>\n",
              "      <th>0</th>\n",
              "      <td>2.0</td>\n",
              "      <td>2.142053</td>\n",
              "    </tr>\n",
              "    <tr>\n",
              "      <th>1</th>\n",
              "      <td>17.0</td>\n",
              "      <td>17.047573</td>\n",
              "    </tr>\n",
              "    <tr>\n",
              "      <th>2</th>\n",
              "      <td>12.0</td>\n",
              "      <td>11.693392</td>\n",
              "    </tr>\n",
              "    <tr>\n",
              "      <th>3</th>\n",
              "      <td>19.0</td>\n",
              "      <td>18.216654</td>\n",
              "    </tr>\n",
              "    <tr>\n",
              "      <th>4</th>\n",
              "      <td>6.0</td>\n",
              "      <td>5.949987</td>\n",
              "    </tr>\n",
              "    <tr>\n",
              "      <th>...</th>\n",
              "      <td>...</td>\n",
              "      <td>...</td>\n",
              "    </tr>\n",
              "    <tr>\n",
              "      <th>1228</th>\n",
              "      <td>7.0</td>\n",
              "      <td>9.119993</td>\n",
              "    </tr>\n",
              "    <tr>\n",
              "      <th>1229</th>\n",
              "      <td>19.0</td>\n",
              "      <td>13.122164</td>\n",
              "    </tr>\n",
              "    <tr>\n",
              "      <th>1230</th>\n",
              "      <td>14.0</td>\n",
              "      <td>7.816648</td>\n",
              "    </tr>\n",
              "    <tr>\n",
              "      <th>1231</th>\n",
              "      <td>6.0</td>\n",
              "      <td>6.909886</td>\n",
              "    </tr>\n",
              "    <tr>\n",
              "      <th>1232</th>\n",
              "      <td>19.0</td>\n",
              "      <td>3.837969</td>\n",
              "    </tr>\n",
              "  </tbody>\n",
              "</table>\n",
              "<p>1233 rows × 2 columns</p>\n",
              "</div>"
            ],
            "text/plain": [
              "      Tutor   Previsto\n",
              "0       2.0   2.142053\n",
              "1      17.0  17.047573\n",
              "2      12.0  11.693392\n",
              "3      19.0  18.216654\n",
              "4       6.0   5.949987\n",
              "...     ...        ...\n",
              "1228    7.0   9.119993\n",
              "1229   19.0  13.122164\n",
              "1230   14.0   7.816648\n",
              "1231    6.0   6.909886\n",
              "1232   19.0   3.837969\n",
              "\n",
              "[1233 rows x 2 columns]"
            ]
          },
          "metadata": {},
          "execution_count": 29
        }
      ]
    },
    {
      "cell_type": "code",
      "metadata": {
        "id": "uUr3LFCVxSNS"
      },
      "source": [
        "resultados['Previsto'] = resultados['Previsto'].astype(int)"
      ],
      "execution_count": null,
      "outputs": []
    },
    {
      "cell_type": "code",
      "metadata": {
        "colab": {
          "base_uri": "https://localhost:8080/"
        },
        "id": "J1RZZJbEyu81",
        "outputId": "32355771-505b-4914-af8e-b1a29b4cc649"
      },
      "source": [
        "from sklearn.metrics import confusion_matrix\n",
        "y_true = resultados['Tutor'].values\n",
        "y_pred = resultados['Previsto'].values\n",
        "\n",
        "mc = confusion_matrix(y_true, y_pred)\n",
        "mc"
      ],
      "execution_count": null,
      "outputs": [
        {
          "output_type": "execute_result",
          "data": {
            "text/plain": [
              "array([[ 8,  1,  0,  0,  0,  0,  0,  0,  0,  0,  1,  1,  0,  0,  0,  0,\n",
              "         0,  0,  0,  0,  0,  0],\n",
              "       [45,  5,  0,  0,  0,  3,  2,  0,  1,  2,  3,  1,  1,  2,  1,  1,\n",
              "         0,  0,  0,  0,  0,  0],\n",
              "       [ 0, 25, 18,  1,  0,  0,  1,  1,  2,  0,  1,  1,  1,  0,  2,  0,\n",
              "         0,  0,  0,  0,  0,  0],\n",
              "       [ 0,  1, 17,  4,  0,  1,  0,  1,  0,  0,  1,  1,  0,  0,  0,  0,\n",
              "         1,  0,  0,  0,  0,  0],\n",
              "       [ 0,  0,  0, 14, 11,  0,  1,  0,  1,  0,  0,  1,  0,  0,  0,  0,\n",
              "         0,  0,  0,  0,  0,  0],\n",
              "       [ 0,  0,  0,  0, 15,  9,  0,  0,  1,  1,  1,  0,  0,  1,  2,  0,\n",
              "         0,  0,  0,  0,  0,  0],\n",
              "       [ 0,  0,  0,  0,  0, 57, 28,  1,  1,  4,  1,  3,  1,  0,  0,  0,\n",
              "         0,  0,  0,  0,  0,  0],\n",
              "       [ 0,  0,  0,  0,  0,  0, 14,  8,  2,  2,  0,  1,  1,  2,  1,  0,\n",
              "         0,  0,  0,  0,  0,  0],\n",
              "       [ 0,  0,  0,  0,  0,  0,  0, 16,  6,  3,  0,  0,  1,  0,  0,  0,\n",
              "         0,  0,  1,  0,  0,  0],\n",
              "       [ 0,  0,  0,  0,  0,  1,  1,  1, 50, 13,  1,  1,  1,  3,  0,  1,\n",
              "         0,  0,  0,  0,  0,  0],\n",
              "       [ 0,  0,  0,  0,  0,  0,  1,  2,  1, 16, 11,  0,  0,  0,  1,  0,\n",
              "         0,  0,  0,  0,  0,  0],\n",
              "       [ 0,  0,  0,  0,  0,  0,  2,  0,  0,  1, 35, 17,  1,  1,  0,  0,\n",
              "         0,  0,  0,  0,  0,  0],\n",
              "       [ 0,  0,  0,  0,  0,  1,  0,  4,  2,  1,  4, 58, 27,  1,  1,  0,\n",
              "         0,  0,  0,  0,  0,  0],\n",
              "       [ 0,  0,  0,  0,  1,  2,  2,  3,  3,  4,  1,  2, 54, 17,  2,  0,\n",
              "         0,  0,  0,  0,  0,  0],\n",
              "       [ 0,  0,  1,  0,  0,  1,  1,  4,  5,  0,  2,  3,  2, 41, 17,  3,\n",
              "         0,  0,  0,  0,  0,  1],\n",
              "       [ 0,  0,  0,  0,  0,  1,  0,  1,  0,  3,  0,  3,  3,  5, 25, 14,\n",
              "         1,  0,  0,  0,  0,  0],\n",
              "       [ 0,  0,  0,  0,  0,  1,  1,  1,  2,  0,  1,  2,  0,  2,  5, 25,\n",
              "        27,  2,  0,  0,  0,  0],\n",
              "       [ 0,  0,  0,  0,  0,  0,  0,  0,  3,  3,  0,  1,  2,  1,  0,  4,\n",
              "        24, 14,  2,  0,  0,  0],\n",
              "       [ 0,  0,  0,  0,  0,  1,  2,  1,  1,  1,  1,  2,  1,  0,  2,  1,\n",
              "         5, 26,  9,  3,  0,  0],\n",
              "       [ 0,  1,  0,  1,  0,  4,  1,  1,  3,  3,  5,  4,  1,  4,  0,  0,\n",
              "         2, 14, 37, 25,  2,  0],\n",
              "       [ 0,  0,  0,  0,  0,  0,  0,  1,  2,  7,  3,  2,  0,  1,  1,  0,\n",
              "         0,  1, 11, 38, 17,  3],\n",
              "       [ 0,  0,  0,  0,  0,  0,  0,  0,  0,  0,  0,  0,  0,  0,  0,  0,\n",
              "         0,  0,  0,  0,  0,  0]])"
            ]
          },
          "metadata": {},
          "execution_count": 33
        }
      ]
    },
    {
      "cell_type": "code",
      "metadata": {
        "colab": {
          "base_uri": "https://localhost:8080/",
          "height": 217
        },
        "id": "HW9-KKDcz5cs",
        "outputId": "29a0ba18-074f-4de7-9665-2668d65bae9b"
      },
      "source": [
        "import seaborn as sn\n",
        "dfmc = pd.DataFrame(data = confusion_matrix(y_true, y_pred))\n",
        "dfmc.to_latex('MatrizConfu.tex')\n",
        "sn.heatmap(dfmc, annot=True, cmap=\"YlGnBu\")"
      ],
      "execution_count": null,
      "outputs": [
        {
          "output_type": "error",
          "ename": "NameError",
          "evalue": "ignored",
          "traceback": [
            "\u001b[0;31m---------------------------------------------------------------------------\u001b[0m",
            "\u001b[0;31mNameError\u001b[0m                                 Traceback (most recent call last)",
            "\u001b[0;32m<ipython-input-2-8ab8354f5795>\u001b[0m in \u001b[0;36m<module>\u001b[0;34m()\u001b[0m\n\u001b[1;32m      1\u001b[0m \u001b[0;32mimport\u001b[0m \u001b[0mseaborn\u001b[0m \u001b[0;32mas\u001b[0m \u001b[0msn\u001b[0m\u001b[0;34m\u001b[0m\u001b[0;34m\u001b[0m\u001b[0m\n\u001b[0;32m----> 2\u001b[0;31m \u001b[0mdfmc\u001b[0m \u001b[0;34m=\u001b[0m \u001b[0mpd\u001b[0m\u001b[0;34m.\u001b[0m\u001b[0mDataFrame\u001b[0m\u001b[0;34m(\u001b[0m\u001b[0mdata\u001b[0m \u001b[0;34m=\u001b[0m \u001b[0mconfusion_matrix\u001b[0m\u001b[0;34m(\u001b[0m\u001b[0my_true\u001b[0m\u001b[0;34m,\u001b[0m \u001b[0my_pred\u001b[0m\u001b[0;34m)\u001b[0m\u001b[0;34m)\u001b[0m\u001b[0;34m\u001b[0m\u001b[0;34m\u001b[0m\u001b[0m\n\u001b[0m\u001b[1;32m      3\u001b[0m \u001b[0mdfmc\u001b[0m\u001b[0;34m.\u001b[0m\u001b[0mto_latex\u001b[0m\u001b[0;34m(\u001b[0m\u001b[0;34m'MatrizConfu.tex'\u001b[0m\u001b[0;34m)\u001b[0m\u001b[0;34m\u001b[0m\u001b[0;34m\u001b[0m\u001b[0m\n\u001b[1;32m      4\u001b[0m \u001b[0msn\u001b[0m\u001b[0;34m.\u001b[0m\u001b[0mheatmap\u001b[0m\u001b[0;34m(\u001b[0m\u001b[0mdfmc\u001b[0m\u001b[0;34m,\u001b[0m \u001b[0mannot\u001b[0m\u001b[0;34m=\u001b[0m\u001b[0;32mTrue\u001b[0m\u001b[0;34m,\u001b[0m \u001b[0mcmap\u001b[0m\u001b[0;34m=\u001b[0m\u001b[0;34m\"YlGnBu\"\u001b[0m\u001b[0;34m)\u001b[0m\u001b[0;34m\u001b[0m\u001b[0;34m\u001b[0m\u001b[0m\n",
            "\u001b[0;31mNameError\u001b[0m: name 'pd' is not defined"
          ]
        }
      ]
    },
    {
      "cell_type": "code",
      "metadata": {
        "id": "J4DEX1xOH7MK"
      },
      "source": [
        "model.save('seringa_regre.h5')"
      ],
      "execution_count": null,
      "outputs": []
    }
  ]
}